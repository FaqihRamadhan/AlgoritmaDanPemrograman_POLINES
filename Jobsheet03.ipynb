{
  "nbformat": 4,
  "nbformat_minor": 0,
  "metadata": {
    "colab": {
      "provenance": [],
      "authorship_tag": "ABX9TyNdyF4og82lwVjf8ld04Xb6",
      "include_colab_link": true
    },
    "kernelspec": {
      "name": "python3",
      "display_name": "Python 3"
    },
    "language_info": {
      "name": "python"
    }
  },
  "cells": [
    {
      "cell_type": "markdown",
      "metadata": {
        "id": "view-in-github",
        "colab_type": "text"
      },
      "source": [
        "<a href=\"https://colab.research.google.com/github/FaqihRamadhan/AlgoritmaDanPemrograman_POLINES/blob/main/Jobsheet03.ipynb\" target=\"_parent\"><img src=\"https://colab.research.google.com/assets/colab-badge.svg\" alt=\"Open In Colab\"/></a>"
      ]
    },
    {
      "cell_type": "markdown",
      "source": [
        "#Praktikum 01\n"
      ],
      "metadata": {
        "id": "0z6hd9pqYBWp"
      }
    },
    {
      "cell_type": "code",
      "execution_count": null,
      "metadata": {
        "colab": {
          "base_uri": "https://localhost:8080/"
        },
        "id": "Kxs4tf3HXuJ5",
        "outputId": "d73e2f3e-ffd4-43e7-aaed-79791e3408a9"
      },
      "outputs": [
        {
          "output_type": "stream",
          "name": "stdout",
          "text": [
            "Masukkkan nilai ujian90\n",
            "Anda Lulus\n"
          ]
        }
      ],
      "source": [
        "nilai = int(input(\"Masukkkan nilai ujian\"))\n",
        "if nilai >= 60:\n",
        "  print(\"Anda Lulus\")"
      ]
    },
    {
      "cell_type": "markdown",
      "source": [
        "#Praktikum 02"
      ],
      "metadata": {
        "id": "p-yp1T9cZC2Y"
      }
    },
    {
      "cell_type": "code",
      "source": [
        "nilai = int(input(\"Masukkan Nilai Ujian:\"))\n",
        "if nilai >= 60:\n",
        "  print(\"Anda LULUS\")\n",
        "else:\n",
        "  print(\"Anda TIDAK LULUS\")"
      ],
      "metadata": {
        "colab": {
          "base_uri": "https://localhost:8080/"
        },
        "id": "sqWb41RWZFJc",
        "outputId": "99bf98e5-b57e-43bd-b796-ecb6bf700f86"
      },
      "execution_count": null,
      "outputs": [
        {
          "output_type": "stream",
          "name": "stdout",
          "text": [
            "Masukkan Nilai Ujian:45\n",
            "Anda TIDAK LULUS\n"
          ]
        }
      ]
    },
    {
      "cell_type": "markdown",
      "source": [
        "#Praktikum 03"
      ],
      "metadata": {
        "id": "zQRnjmILZelt"
      }
    },
    {
      "cell_type": "code",
      "source": [
        "nilai =int(input(\"Masukkan Nilai Akhir: \"))\n",
        "\n",
        "if nilai >= 85:\n",
        "  grade = \"A\"\n",
        "elif nilai >= 70:\n",
        "  grade = \"B\"\n",
        "elif nilai >= 55:\n",
        "  grade = \"C\"\n",
        "elif nilai >= 40:\n",
        "  grade = \"D\"\n",
        "else:\n",
        "  grade = \"E\"\n",
        "\n",
        "print(f\"Nilai Anda {nilai}, maka grade Anda = {grade}\")"
      ],
      "metadata": {
        "colab": {
          "base_uri": "https://localhost:8080/"
        },
        "id": "hRLKar85ZlSd",
        "outputId": "ada7e247-446e-4345-e56c-c33529e61a08"
      },
      "execution_count": null,
      "outputs": [
        {
          "output_type": "stream",
          "name": "stdout",
          "text": [
            "Masukkan Nilai Akhir: 90\n",
            "Nilai Anda 90, maka grade Anda = A\n"
          ]
        }
      ]
    },
    {
      "cell_type": "markdown",
      "source": [
        "#Praktikum 04"
      ],
      "metadata": {
        "id": "92fwFrfbaxYp"
      }
    },
    {
      "cell_type": "code",
      "source": [
        "ipk = float(input(\"Masukkan IPK: \"))\n",
        "sks = int(input(\"Masukkan Jumlah SKS: \"))\n",
        "\n",
        "if ipk >= 3.0:\n",
        "  if sks >= 18:\n",
        "    print(\"Anda LAYAK mendapat beasiswa\")\n",
        "  else:\n",
        "    print(\"IPK memenuhi, tapi SKS kurang\")\n",
        "else:\n",
        "  print(\"Anda TIDAK layak mendapat beasiswa\")\n"
      ],
      "metadata": {
        "colab": {
          "base_uri": "https://localhost:8080/"
        },
        "id": "iwmCacdPa1s_",
        "outputId": "d34cda95-9e30-46b4-be67-94d91fff0de1"
      },
      "execution_count": null,
      "outputs": [
        {
          "output_type": "stream",
          "name": "stdout",
          "text": [
            "Masukkan IPK: 2.5\n",
            "Masukkan Jumlah SKS: 18\n",
            "Anda TIDAK layak mendapat beasiswa\n"
          ]
        }
      ]
    },
    {
      "cell_type": "markdown",
      "source": [
        "#Praktikum 05"
      ],
      "metadata": {
        "id": "nwwz7QOVcgUP"
      }
    },
    {
      "cell_type": "code",
      "source": [
        "menu = int(input(\"Pilih menu (1-3): \"))\n",
        "\n",
        "match menu:\n",
        "  case 1:\n",
        "    print(\"Anda memilih Nasi Goreng\")\n",
        "  case 2:\n",
        "    print(\"Anda memilih Mie Ayam\")\n",
        "  case 3:\n",
        "    print(\"Anda memilih Soto Ayam\")\n",
        "  case _:\n",
        "    print(\"Menu tidak tersedia\")"
      ],
      "metadata": {
        "colab": {
          "base_uri": "https://localhost:8080/"
        },
        "id": "wBhNOOfPcnH3",
        "outputId": "0e4eb8da-8e1e-462a-dba9-4b5aba0249fe"
      },
      "execution_count": null,
      "outputs": [
        {
          "output_type": "stream",
          "name": "stdout",
          "text": [
            "Pilih menu (1-3): 2\n",
            "Anda memilih Mie Ayam\n"
          ]
        }
      ]
    },
    {
      "cell_type": "markdown",
      "source": [
        "#Praktikum 06"
      ],
      "metadata": {
        "id": "Kp5iuuxlQJSh"
      }
    },
    {
      "cell_type": "code",
      "source": [
        "barang = input(\"Masukkan nama barang: \")\n",
        "harga = float(input(\"Masukkan harga barang:\"))\n",
        "jumlah = int(input(\"Masukkan jumlah barang: \"))\n",
        "\n",
        "total = harga * jumlah\n",
        "\n",
        "if total >= 500000:\n",
        "            diskon = 0.2\n",
        "elif total >= 250000:\n",
        "          diskon = 0.1\n",
        "else:\n",
        "          diskon = 0\n",
        "\n",
        "bayar = total - (total * diskon)\n",
        "print(\"\\n====== Struk Belanja =======\")\n",
        "print(f\"Barang : {barang}\")\n",
        "print(f\"Jumlah : {jumlah}\")\n",
        "print(f\"Total : Rp {total}\")\n",
        "print(f\"Diskon : {diskon * 100}%\")\n",
        "print(f\"Bayar : Rp {bayar}\")"
      ],
      "metadata": {
        "id": "5tqy-tqvYvPW",
        "colab": {
          "base_uri": "https://localhost:8080/"
        },
        "outputId": "d81540de-a43b-41a6-d12a-3b576ad82e15"
      },
      "execution_count": 2,
      "outputs": [
        {
          "output_type": "stream",
          "name": "stdout",
          "text": [
            "Masukkan nama barang: meaj\n",
            "Masukkan harga barang:500000\n",
            "Masukkan jumlah barang: 1\n",
            "\n",
            "====== Struk Belanja =======\n",
            "Barang : meaj\n",
            "Jumlah : 1\n",
            "Total : Rp 500000.0\n",
            "Diskon : 20.0%\n",
            "Bayar : Rp 400000.0\n"
          ]
        }
      ]
    },
    {
      "cell_type": "markdown",
      "source": [
        "#Cek Bilangan Positif/Negatif/Nol"
      ],
      "metadata": {
        "id": "foYbVADcROcf"
      }
    },
    {
      "cell_type": "code",
      "source": [
        "# Program Membaca Bilangan Bulat\n",
        "\n",
        "a = int(input(\"Masukkan bilangan bulat: \"))\n",
        "\n",
        "if a >= 1:\n",
        "  print(\"Bilangan tersebut termasuk Bilangan Bulat Positif\")\n",
        "elif a == 0:\n",
        "  print(\"Bilangan tersebut termasuk Bilangan Bulat Nol\")\n",
        "else:\n",
        "  print(\"Bilangan tersebut termasuk Bilangan Bulat Negatif\")"
      ],
      "metadata": {
        "id": "PEs5MZ1FY7m3",
        "colab": {
          "base_uri": "https://localhost:8080/"
        },
        "outputId": "53164a39-b7d4-433e-b4b3-330348ad4415"
      },
      "execution_count": 3,
      "outputs": [
        {
          "output_type": "stream",
          "name": "stdout",
          "text": [
            "Masukkan bilangan bulat: 10\n",
            "Bilangan tersebut termasuk Bilangan Bulat Positif\n"
          ]
        }
      ]
    },
    {
      "cell_type": "markdown",
      "source": [
        "#Menentukan Kategori Usia"
      ],
      "metadata": {
        "id": "fyxejeAFRhEv"
      }
    },
    {
      "cell_type": "code",
      "source": [
        "umur = int(input(\"Masukkan umur: \"))\n",
        "\n",
        "if umur >= 60:\n",
        "    print(\"Kategori Lansia\")\n",
        "elif umur >= 18:\n",
        "    print(\"Kategori Dewasa\")\n",
        "elif umur >= 12:\n",
        "    print(\"Kategori Remaja\")\n",
        "elif umur >= 5:\n",
        "    print(\"Kategori Anak-anak\")\n",
        "else:\n",
        "    print(\"Kategori Balita\")"
      ],
      "metadata": {
        "id": "C2L68ifMY7lQ",
        "colab": {
          "base_uri": "https://localhost:8080/"
        },
        "outputId": "eb3c2a5a-a0d6-4ee1-91a3-d4aa877958f0"
      },
      "execution_count": 4,
      "outputs": [
        {
          "output_type": "stream",
          "name": "stdout",
          "text": [
            "Masukkan umur: 18\n",
            "Kategori Dewasa\n"
          ]
        }
      ]
    },
    {
      "cell_type": "markdown",
      "source": [
        "#Hitung Tarif Parkir"
      ],
      "metadata": {
        "id": "58lBYe7fRsf9"
      }
    },
    {
      "cell_type": "code",
      "source": [
        "waktu = int(input(\"Masukkan waktu parkir (jam): \"))\n",
        "\n",
        "if waktu <= 2:\n",
        "    tarif = 5000\n",
        "elif waktu > 2:\n",
        "    tarif = 5000 + (waktu - 2) * 2000\n",
        "    if tarif > 20000:\n",
        "      tarif = 20000\n",
        "else:\n",
        "    tarif = 0\n",
        "\n",
        "print(\"====== Tarif Parkir ======\")\n",
        "print(f\"Waktu Parkir: {waktu} jam\")\n",
        "print(f\"Total Tarif : Rp {tarif}\")"
      ],
      "metadata": {
        "id": "KHNpyWj7Y7jD",
        "colab": {
          "base_uri": "https://localhost:8080/"
        },
        "outputId": "a8f9f291-023c-46ee-c193-5c2f12092e8b"
      },
      "execution_count": 5,
      "outputs": [
        {
          "output_type": "stream",
          "name": "stdout",
          "text": [
            "Masukkan waktu parkir (jam): 1\n",
            "====== Tarif Parkir ======\n",
            "Waktu Parkir: 1 jam\n",
            "Total Tarif : Rp 5000\n"
          ]
        }
      ]
    },
    {
      "cell_type": "markdown",
      "source": [
        "#Cek Logika Sederhana"
      ],
      "metadata": {
        "id": "UnPtK49TR5_q"
      }
    },
    {
      "cell_type": "code",
      "source": [
        "username = input(\"Masukkan Username: \")\n",
        "password = input(\"Masukkan Password: \")\n",
        "\n",
        "if username == \"admin\" and password == \"1234\":\n",
        "    print(\"Login Berhasil\")\n",
        "else:\n",
        "    print(\"Login Gagal\")\n",
        ""
      ],
      "metadata": {
        "colab": {
          "base_uri": "https://localhost:8080/"
        },
        "id": "rJTCyv6cR053",
        "outputId": "377919b1-2ba0-4bff-d02b-0c75a3d03e8a"
      },
      "execution_count": 6,
      "outputs": [
        {
          "output_type": "stream",
          "name": "stdout",
          "text": [
            "Masukkan Username: admin\n",
            "Masukkan Password: 1234\n",
            "Login Berhasil\n"
          ]
        }
      ]
    },
    {
      "cell_type": "markdown",
      "source": [
        "#One-Liner If (Cek Genap/Ganjil)"
      ],
      "metadata": {
        "id": "kjeOmBiJH-7h"
      }
    },
    {
      "cell_type": "code",
      "source": [
        "a = int(input(\"Masukkan bilangan: \"))\n",
        "\n",
        "hasil = \"Genap\" if a % 2 == 0 else \"Ganjil\"\n",
        "print(f\"Bilangan {a} termasuk bilangan {hasil}\")"
      ],
      "metadata": {
        "colab": {
          "base_uri": "https://localhost:8080/"
        },
        "id": "WE0yc-7OR83G",
        "outputId": "160a74f1-6b62-4d83-a8b8-919412dcf29f"
      },
      "execution_count": 1,
      "outputs": [
        {
          "output_type": "stream",
          "name": "stdout",
          "text": [
            "Masukkan bilangan: 7\n",
            "Bilangan 7 termasuk bilangan Ganjil\n"
          ]
        }
      ]
    },
    {
      "cell_type": "markdown",
      "source": [
        "#Menu Restoran dengan Match-Case"
      ],
      "metadata": {
        "id": "-OAUv0K3IQSP"
      }
    },
    {
      "cell_type": "code",
      "source": [
        "menu = int(input(\"Pilih Menu (1-3): \"))\n",
        "\n",
        "match menu:\n",
        "  case 1:\n",
        "    print(\"Anda memilih Nasi Goreng\")\n",
        "  case 2:\n",
        "    print(\"Anda memilih Mie Ayam\")\n",
        "  case 3:\n",
        "    print(\"Anda memilih Soto Ayam\")\n",
        "  case _:\n",
        "    print(\"Menu tidak tersedia\")"
      ],
      "metadata": {
        "colab": {
          "base_uri": "https://localhost:8080/"
        },
        "id": "xCbtuZpMIJcB",
        "outputId": "885ec0a8-925c-4f72-f8fd-7cae60ca4aa7"
      },
      "execution_count": 2,
      "outputs": [
        {
          "output_type": "stream",
          "name": "stdout",
          "text": [
            "Pilih Menu (1-3): 5\n",
            "Menu tidak tersedia\n"
          ]
        }
      ]
    },
    {
      "cell_type": "markdown",
      "source": [
        "#Studi Kasus Nyata - Program Penentuan Diskon"
      ],
      "metadata": {
        "id": "ePUuvaqQIcMV"
      }
    },
    {
      "cell_type": "code",
      "source": [
        "barang = input(\"Masukkan nama barang: \")\n",
        "harga = float(input(\"Masukkan harga barang: \"))\n",
        "jumlah = int(input(\"Masukkan jumlah barang: \"))\n",
        "\n",
        "\n",
        "total = jumlah * harga\n",
        "if total >= 500000:\n",
        "    diskon = 0.2\n",
        "elif total >= 250000:\n",
        "    diskon = 0.1\n",
        "else:\n",
        "    diskon = 0\n",
        "bayar = total - (total*diskon)\n",
        "\n",
        "print(\"\\n====== Struk Belanja ======\")\n",
        "print(f\"Barang  : {barang}\")\n",
        "print(f\"Harga   : {harga}\")\n",
        "print(f\"Jumlah  : {jumlah}\")\n",
        "print(f\"Total   : Rp {total}\")\n",
        "print(f\"Diskon  : {diskon*100}%\")\n",
        "print(f\"Jumlah Bayar: {bayar}\")"
      ],
      "metadata": {
        "colab": {
          "base_uri": "https://localhost:8080/"
        },
        "id": "SUre5Y0_IUTF",
        "outputId": "0f51b3c6-b317-4238-ba0f-940c5f019a0f"
      },
      "execution_count": 3,
      "outputs": [
        {
          "output_type": "stream",
          "name": "stdout",
          "text": [
            "Masukkan nama barang: meja\n",
            "Masukkan harga barang: 250000\n",
            "Masukkan jumlah barang: 1\n",
            "\n",
            "====== Struk Belanja ======\n",
            "Barang  : meja\n",
            "Harga   : 250000.0\n",
            "Jumlah  : 1\n",
            "Total   : Rp 250000.0\n",
            "Diskon  : 10.0%\n",
            "Jumlah Bayar: 225000.0\n"
          ]
        }
      ]
    }
  ]
}