{
  "nbformat": 4,
  "nbformat_minor": 0,
  "metadata": {
    "colab": {
      "provenance": [],
      "authorship_tag": "ABX9TyM84PlD7TuUjcUapWehYcLR",
      "include_colab_link": true
    },
    "kernelspec": {
      "name": "python3",
      "display_name": "Python 3"
    },
    "language_info": {
      "name": "python"
    }
  },
  "cells": [
    {
      "cell_type": "markdown",
      "metadata": {
        "id": "view-in-github",
        "colab_type": "text"
      },
      "source": [
        "<a href=\"https://colab.research.google.com/github/FaqihRamadhan/AlgoritmaDanPemrograman_POLINES/blob/main/Jobsheet01.ipynb\" target=\"_parent\"><img src=\"https://colab.research.google.com/assets/colab-badge.svg\" alt=\"Open In Colab\"/></a>"
      ]
    },
    {
      "cell_type": "markdown",
      "source": [
        "#Praktikum 01 Menghitung Luas Persegi Panjang"
      ],
      "metadata": {
        "id": "lwi-DU9M2axG"
      }
    },
    {
      "cell_type": "code",
      "execution_count": null,
      "metadata": {
        "colab": {
          "base_uri": "https://localhost:8080/"
        },
        "id": "NuLqcAuk2JCZ",
        "outputId": "cc94957f-9bfd-4d41-ec0b-d8d2fc040386"
      },
      "outputs": [
        {
          "output_type": "stream",
          "name": "stdout",
          "text": [
            "Masukkan panjanng:5\n",
            "Masukkan lebar5\n",
            "Luas persegi = 25\n"
          ]
        }
      ],
      "source": [
        "p = int(input(\"Masukkan panjanng:\"))\n",
        "l = int(input(\"Masukkan lebar\"))\n",
        "luas = p * l\n",
        "print(\"Luas persegi =\", luas)"
      ]
    },
    {
      "cell_type": "code",
      "source": [],
      "metadata": {
        "id": "xjKnxFt273fu"
      },
      "execution_count": null,
      "outputs": []
    },
    {
      "cell_type": "markdown",
      "source": [
        "#Praktikum 02 Menghitung Luas Segitiga(Rumus Heron)"
      ],
      "metadata": {
        "id": "BLBHlwQg8Wnd"
      }
    },
    {
      "cell_type": "code",
      "source": [
        "import math\n",
        "\n",
        "a = float(input(\"Masukkan nilai a:\"))\n",
        "b = float(input(\"Masukkan nilai b:\"))\n",
        "c = float(input(\"Masukkan nilai c:\"))\n",
        "\n",
        "s = (a+b+c)/2\n",
        "luas = math.sqrt(s*(s-a)*(s-b)*(s-c))\n",
        "print(\"Luas segitiga=\", luas)"
      ],
      "metadata": {
        "colab": {
          "base_uri": "https://localhost:8080/"
        },
        "id": "rSKwLcLy9ZiC",
        "outputId": "d0228369-aa09-44bc-e8bb-3330b13a0262"
      },
      "execution_count": null,
      "outputs": [
        {
          "output_type": "stream",
          "name": "stdout",
          "text": [
            "Masukkan nilai a:5\n",
            "Masukkan nilai b:5\n",
            "Masukkan nilai c:5\n",
            "Luas segitiga= 10.825317547305483\n"
          ]
        }
      ]
    },
    {
      "cell_type": "code",
      "source": [],
      "metadata": {
        "id": "psvYsJye9n0X"
      },
      "execution_count": null,
      "outputs": []
    },
    {
      "cell_type": "markdown",
      "source": [
        "#Praktikum 03 Konversi Suhu Celcius ke Fahrenheit"
      ],
      "metadata": {
        "id": "2T_LcE4r-EaB"
      }
    },
    {
      "cell_type": "code",
      "source": [
        "c = float(input(\"Masukkan suhu (°C): \"))\n",
        "f = (c * 9/5) + 32\n",
        "print(\"Hasil Konversi=\", f, \"°F\")"
      ],
      "metadata": {
        "colab": {
          "base_uri": "https://localhost:8080/"
        },
        "id": "Zto8blM2-Pt6",
        "outputId": "a3a8755b-a639-431b-b942-d5bcd8ad235d"
      },
      "execution_count": null,
      "outputs": [
        {
          "output_type": "stream",
          "name": "stdout",
          "text": [
            "Masukkan suhu (°C): 12\n",
            "Hasil Konversi= 53.6 °F\n"
          ]
        }
      ]
    },
    {
      "cell_type": "code",
      "source": [],
      "metadata": {
        "id": "JG6dbRF--v6w"
      },
      "execution_count": null,
      "outputs": []
    },
    {
      "cell_type": "markdown",
      "source": [
        "#Praktikum 04 Menghitung Umur Berdasarkan Tahun Lahir"
      ],
      "metadata": {
        "id": "iPuejP3I-yFX"
      }
    },
    {
      "cell_type": "code",
      "source": [
        "tahun_lahir = int(input(\"Masukkan tahun lahir:\"))\n",
        "tahun_sekarang = 2025\n",
        "umur = tahun_sekarang - tahun_lahir\n",
        "print(\"Umur anda=\", umur, \"tahun\")"
      ],
      "metadata": {
        "colab": {
          "base_uri": "https://localhost:8080/"
        },
        "id": "NiuioxAi-6l-",
        "outputId": "2594b1bf-3347-483e-ac2d-e66d9a753636"
      },
      "execution_count": null,
      "outputs": [
        {
          "output_type": "stream",
          "name": "stdout",
          "text": [
            "Masukkan tahun lahir:2006\n",
            "Umur anda= 19 tahun\n"
          ]
        }
      ]
    },
    {
      "cell_type": "code",
      "source": [],
      "metadata": {
        "id": "G8fJlz7V_cVg"
      },
      "execution_count": null,
      "outputs": []
    },
    {
      "cell_type": "markdown",
      "source": [
        "#Praktikum 05 Menghitung Luas Lingkaran\n"
      ],
      "metadata": {
        "id": "pTNNHZwP_eIe"
      }
    },
    {
      "cell_type": "code",
      "source": [
        "import math\n",
        "\n",
        "r = float(input(\"Masukkan jari-jari lingkaran:\"))\n",
        "luas = math.pi * r * r\n",
        "print(\"Luas lingkaran=\", luas)"
      ],
      "metadata": {
        "colab": {
          "base_uri": "https://localhost:8080/"
        },
        "id": "6UqoWc2-AAHS",
        "outputId": "6dcdcf04-324d-4d6c-f508-ac976a721e36"
      },
      "execution_count": null,
      "outputs": [
        {
          "output_type": "stream",
          "name": "stdout",
          "text": [
            "Masukkan jari-jari lingkaran:5\n",
            "Luas lingkaran= 78.53981633974483\n"
          ]
        }
      ]
    },
    {
      "cell_type": "code",
      "source": [],
      "metadata": {
        "id": "FIgyxgJnAYSs"
      },
      "execution_count": null,
      "outputs": []
    },
    {
      "cell_type": "markdown",
      "source": [
        "#Praktikum 06 Menjumlahkan Tiga Bilangan"
      ],
      "metadata": {
        "id": "GLa8t6fbAwOa"
      }
    },
    {
      "cell_type": "code",
      "source": [
        "a = int(input(\"Masukkan bilangan pertama:\"))\n",
        "b = int(input(\"Masukkan bilangan keda:\"))\n",
        "c = int(input(\"Masukkan bilangan ketiga:\"))\n",
        "jumlah = a + b + c\n",
        "print(\"Jumlah =\", jumlah)"
      ],
      "metadata": {
        "colab": {
          "base_uri": "https://localhost:8080/"
        },
        "id": "bqO2T3iJA0j0",
        "outputId": "076b53d4-cd63-440e-99fb-5f9ca7977287"
      },
      "execution_count": null,
      "outputs": [
        {
          "output_type": "stream",
          "name": "stdout",
          "text": [
            "Masukkan bilangan pertama:2\n",
            "Masukkan bilangan keda:2\n",
            "Masukkan bilangan ketiga:2\n",
            "Jumlah = 6\n"
          ]
        }
      ]
    },
    {
      "cell_type": "markdown",
      "source": [
        "# Penugasan 3 Menghitung Volume Balok"
      ],
      "metadata": {
        "id": "tmdCsIW-LGX3"
      }
    },
    {
      "cell_type": "code",
      "source": [
        "p = int(input(\"Masukkan Panjang:\"))\n",
        "l = int(input(\"Masukkan Lebar:\"))\n",
        "t = int(input(\"Masukkan Tinggi:\"))\n",
        "\n",
        "v = p * l * t\n",
        "print(\"Volume Balok=\", v)"
      ],
      "metadata": {
        "id": "jUe1lMSWBXYu",
        "colab": {
          "base_uri": "https://localhost:8080/"
        },
        "outputId": "74bf2770-01e7-4f2d-dde3-5a3a91850ee6"
      },
      "execution_count": 2,
      "outputs": [
        {
          "output_type": "stream",
          "name": "stdout",
          "text": [
            "Masukkan Panjang:10\n",
            "Masukkan Lebar:10\n",
            "Masukkan Tinggi:10\n",
            "Volume Balok= 1000\n"
          ]
        }
      ]
    },
    {
      "cell_type": "code",
      "source": [],
      "metadata": {
        "id": "wmbaEwyMLY-b"
      },
      "execution_count": null,
      "outputs": []
    },
    {
      "cell_type": "markdown",
      "source": [
        "#Penugasan 4 Konversi waktu Ke Detik"
      ],
      "metadata": {
        "id": "gMCkzYBhOIAj"
      }
    },
    {
      "cell_type": "code",
      "source": [
        "  total_detik = int(input(\"Masukkan detik:\"))\n",
        "  jam = total_detik // 3600\n",
        "  sisa_detik = total_detik % 3600\n",
        "  menit = sisa_detik // 60\n",
        "  detik = sisa_detik % 60\n",
        "\n",
        "  print(f\"{jam} jam, {menit} menit, {detik} detik\")"
      ],
      "metadata": {
        "colab": {
          "base_uri": "https://localhost:8080/"
        },
        "id": "bqWo7_1wOJu3",
        "outputId": "94185e17-a6b9-4a84-babf-f720bcf624e0"
      },
      "execution_count": 4,
      "outputs": [
        {
          "output_type": "stream",
          "name": "stdout",
          "text": [
            "Masukkan detik:3670\n",
            "1 jam, 1 menit, 10 detik\n"
          ]
        }
      ]
    },
    {
      "cell_type": "code",
      "source": [],
      "metadata": {
        "id": "N8LP1q1_R62N"
      },
      "execution_count": null,
      "outputs": []
    },
    {
      "cell_type": "markdown",
      "source": [
        "#Penugasan 5 Rata rata Nilai Tiga Mata Kuliah"
      ],
      "metadata": {
        "id": "QMYKMsOqSaDE"
      }
    },
    {
      "cell_type": "code",
      "source": [
        "nilai1 = float(input(\"Masukkan Nilai Matakuliah 1:\"))\n",
        "nilai2 = float(input(\"Masukkan Nilai Matakuliah 2:\"))\n",
        "nilai3 = float(input(\"Masukkan Nilai Matakuliah 3:\"))\n",
        "\n",
        "rata_rata = (nilai1 + nilai2 + nilai3)/3\n",
        "if rata_rata >= 60:\n",
        "  status = \"LULUS\"\n",
        "else:\n",
        "  status = \"TIDAK LULUS\"\n",
        "\n",
        "print(\"Rata-rata Nilai=\", rata_rata)\n",
        "print(\"Status=\", status)"
      ],
      "metadata": {
        "colab": {
          "base_uri": "https://localhost:8080/"
        },
        "id": "kTEkSbA6SckO",
        "outputId": "3f747ed2-4603-4366-b3f9-3c9c0c660398"
      },
      "execution_count": 13,
      "outputs": [
        {
          "output_type": "stream",
          "name": "stdout",
          "text": [
            "Masukkan Nilai Matakuliah 1:90\n",
            "Masukkan Nilai Matakuliah 2:90\n",
            "Masukkan Nilai Matakuliah 3:90\n",
            "Rata-rata Nilai= 90.0\n",
            "Status= LULUS\n"
          ]
        }
      ]
    },
    {
      "cell_type": "markdown",
      "source": [
        "#Penugasan 6 Menghitung Diskon Belanja"
      ],
      "metadata": {
        "id": "VuWUNR-ccqy-"
      }
    },
    {
      "cell_type": "code",
      "source": [
        "belanja = float(input(\"Masukkan total belanja:\"))\n",
        "\n",
        "if belanja >= 500000:\n",
        "    diskon = 0.20\n",
        "elif belanja >= 250000:\n",
        "    diskon = 0.10\n",
        "else:\n",
        "    diskon = 0.0\n",
        "\n",
        "potogan = belanja * diskon\n",
        "total_bayar = belanja - potogan\n",
        "\n",
        "print(\"Diskon=\", potogan)\n",
        "print(\"Total Bayar=\", total_bayar)"
      ],
      "metadata": {
        "id": "A0Sx4oMZxAWy",
        "outputId": "52af2147-4d97-4fd4-ddf1-5395a09f95f5",
        "colab": {
          "base_uri": "https://localhost:8080/"
        }
      },
      "execution_count": 19,
      "outputs": [
        {
          "output_type": "stream",
          "name": "stdout",
          "text": [
            "Masukkan total belanja:600000\n",
            "Diskon= 120000.0\n",
            "Total Bayar= 480000.0\n"
          ]
        }
      ]
    },
    {
      "cell_type": "code",
      "source": [],
      "metadata": {
        "id": "PCpOgPzIxrIg"
      },
      "execution_count": null,
      "outputs": []
    }
  ]
}