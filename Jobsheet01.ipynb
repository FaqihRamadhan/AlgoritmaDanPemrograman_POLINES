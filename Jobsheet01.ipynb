{
  "nbformat": 4,
  "nbformat_minor": 0,
  "metadata": {
    "colab": {
      "provenance": [],
      "authorship_tag": "ABX9TyMrVQ7j5mxduSbqDbObtBjj",
      "include_colab_link": true
    },
    "kernelspec": {
      "name": "python3",
      "display_name": "Python 3"
    },
    "language_info": {
      "name": "python"
    }
  },
  "cells": [
    {
      "cell_type": "markdown",
      "metadata": {
        "id": "view-in-github",
        "colab_type": "text"
      },
      "source": [
        "<a href=\"https://colab.research.google.com/github/FaqihRamadhan/AlgoritmaDanPemrograman_POLINES/blob/main/Jobsheet01.ipynb\" target=\"_parent\"><img src=\"https://colab.research.google.com/assets/colab-badge.svg\" alt=\"Open In Colab\"/></a>"
      ]
    },
    {
      "cell_type": "markdown",
      "source": [
        "#Praktikum 01 Menghitung Luas Persegi Panjang"
      ],
      "metadata": {
        "id": "lwi-DU9M2axG"
      }
    },
    {
      "cell_type": "code",
      "execution_count": 2,
      "metadata": {
        "colab": {
          "base_uri": "https://localhost:8080/"
        },
        "id": "NuLqcAuk2JCZ",
        "outputId": "cc94957f-9bfd-4d41-ec0b-d8d2fc040386"
      },
      "outputs": [
        {
          "output_type": "stream",
          "name": "stdout",
          "text": [
            "Masukkan panjanng:5\n",
            "Masukkan lebar5\n",
            "Luas persegi = 25\n"
          ]
        }
      ],
      "source": [
        "p = int(input(\"Masukkan panjanng:\"))\n",
        "l = int(input(\"Masukkan lebar\"))\n",
        "luas = p * l\n",
        "print(\"Luas persegi =\", luas)"
      ]
    },
    {
      "cell_type": "code",
      "source": [],
      "metadata": {
        "id": "xjKnxFt273fu"
      },
      "execution_count": null,
      "outputs": []
    },
    {
      "cell_type": "markdown",
      "source": [
        "#Praktikum 02 Menghitung Luas Segitiga(Rumus Heron)"
      ],
      "metadata": {
        "id": "BLBHlwQg8Wnd"
      }
    },
    {
      "cell_type": "code",
      "source": [
        "import math\n",
        "\n",
        "a = float(input(\"Masukkan nilai a:\"))\n",
        "b = float(input(\"Masukkan nilai b:\"))\n",
        "c = float(input(\"Masukkan nilai c:\"))\n",
        "\n",
        "s = (a+b+c)/2\n",
        "luas = math.sqrt(s*(s-a)*(s-b)*(s-c))\n",
        "print(\"Luas segitiga=\", luas)"
      ],
      "metadata": {
        "colab": {
          "base_uri": "https://localhost:8080/"
        },
        "id": "rSKwLcLy9ZiC",
        "outputId": "d0228369-aa09-44bc-e8bb-3330b13a0262"
      },
      "execution_count": 9,
      "outputs": [
        {
          "output_type": "stream",
          "name": "stdout",
          "text": [
            "Masukkan nilai a:5\n",
            "Masukkan nilai b:5\n",
            "Masukkan nilai c:5\n",
            "Luas segitiga= 10.825317547305483\n"
          ]
        }
      ]
    },
    {
      "cell_type": "code",
      "source": [],
      "metadata": {
        "id": "psvYsJye9n0X"
      },
      "execution_count": null,
      "outputs": []
    },
    {
      "cell_type": "markdown",
      "source": [
        "#Praktikum 03 Konversi Suhu Celcius ke Fahrenheit"
      ],
      "metadata": {
        "id": "2T_LcE4r-EaB"
      }
    },
    {
      "cell_type": "code",
      "source": [
        "c = float(input(\"Masukkan suhu (°C): \"))\n",
        "f = (c * 9/5) + 32\n",
        "print(\"Hasil Konversi=\", f, \"°F\")"
      ],
      "metadata": {
        "colab": {
          "base_uri": "https://localhost:8080/"
        },
        "id": "Zto8blM2-Pt6",
        "outputId": "a3a8755b-a639-431b-b942-d5bcd8ad235d"
      },
      "execution_count": 10,
      "outputs": [
        {
          "output_type": "stream",
          "name": "stdout",
          "text": [
            "Masukkan suhu (°C): 12\n",
            "Hasil Konversi= 53.6 °F\n"
          ]
        }
      ]
    },
    {
      "cell_type": "code",
      "source": [],
      "metadata": {
        "id": "JG6dbRF--v6w"
      },
      "execution_count": null,
      "outputs": []
    },
    {
      "cell_type": "markdown",
      "source": [
        "#Praktikum 04 Menghitung Umur Berdasarkan Tahun Lahir"
      ],
      "metadata": {
        "id": "iPuejP3I-yFX"
      }
    },
    {
      "cell_type": "code",
      "source": [
        "tahun_lahir = int(input(\"Masukkan tahun lahir:\"))\n",
        "tahun_sekarang = 2025\n",
        "umur = tahun_sekarang - tahun_lahir\n",
        "print(\"Umur anda=\", umur, \"tahun\")"
      ],
      "metadata": {
        "colab": {
          "base_uri": "https://localhost:8080/"
        },
        "id": "NiuioxAi-6l-",
        "outputId": "2594b1bf-3347-483e-ac2d-e66d9a753636"
      },
      "execution_count": 11,
      "outputs": [
        {
          "output_type": "stream",
          "name": "stdout",
          "text": [
            "Masukkan tahun lahir:2006\n",
            "Umur anda= 19 tahun\n"
          ]
        }
      ]
    },
    {
      "cell_type": "code",
      "source": [],
      "metadata": {
        "id": "G8fJlz7V_cVg"
      },
      "execution_count": null,
      "outputs": []
    },
    {
      "cell_type": "markdown",
      "source": [
        "#Praktikum 05 Menghitung Luas Lingkaran\n"
      ],
      "metadata": {
        "id": "pTNNHZwP_eIe"
      }
    },
    {
      "cell_type": "code",
      "source": [
        "import math\n",
        "\n",
        "r = float(input(\"Masukkan jari-jari lingkaran:\"))\n",
        "luas = math.pi * r * r\n",
        "print(\"Luas lingkaran=\", luas)"
      ],
      "metadata": {
        "colab": {
          "base_uri": "https://localhost:8080/"
        },
        "id": "6UqoWc2-AAHS",
        "outputId": "6dcdcf04-324d-4d6c-f508-ac976a721e36"
      },
      "execution_count": 15,
      "outputs": [
        {
          "output_type": "stream",
          "name": "stdout",
          "text": [
            "Masukkan jari-jari lingkaran:5\n",
            "Luas lingkaran= 78.53981633974483\n"
          ]
        }
      ]
    },
    {
      "cell_type": "code",
      "source": [],
      "metadata": {
        "id": "FIgyxgJnAYSs"
      },
      "execution_count": null,
      "outputs": []
    },
    {
      "cell_type": "markdown",
      "source": [
        "#Praktikum 06 Menjumlahkan Tiga Bilangan"
      ],
      "metadata": {
        "id": "GLa8t6fbAwOa"
      }
    },
    {
      "cell_type": "code",
      "source": [
        "a = int(input(\"Masukkan bilangan pertama:\"))\n",
        "b = int(input(\"Masukkan bilangan keda:\"))\n",
        "c = int(input(\"Masukkan bilangan ketiga:\"))\n",
        "jumlah = a + b + c\n",
        "print(\"Jumlah =\", jumlah)"
      ],
      "metadata": {
        "colab": {
          "base_uri": "https://localhost:8080/"
        },
        "id": "bqO2T3iJA0j0",
        "outputId": "076b53d4-cd63-440e-99fb-5f9ca7977287"
      },
      "execution_count": 16,
      "outputs": [
        {
          "output_type": "stream",
          "name": "stdout",
          "text": [
            "Masukkan bilangan pertama:2\n",
            "Masukkan bilangan keda:2\n",
            "Masukkan bilangan ketiga:2\n",
            "Jumlah = 6\n"
          ]
        }
      ]
    },
    {
      "cell_type": "code",
      "source": [],
      "metadata": {
        "id": "jUe1lMSWBXYu"
      },
      "execution_count": null,
      "outputs": []
    }
  ]
}