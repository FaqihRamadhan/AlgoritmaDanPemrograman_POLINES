{
  "nbformat": 4,
  "nbformat_minor": 0,
  "metadata": {
    "colab": {
      "provenance": [],
      "authorship_tag": "ABX9TyMDx+/azxILsW6GPKmQwCis",
      "include_colab_link": true
    },
    "kernelspec": {
      "name": "python3",
      "display_name": "Python 3"
    },
    "language_info": {
      "name": "python"
    }
  },
  "cells": [
    {
      "cell_type": "markdown",
      "metadata": {
        "id": "view-in-github",
        "colab_type": "text"
      },
      "source": [
        "<a href=\"https://colab.research.google.com/github/FaqihRamadhan/AlgoritmaDanPemrograman_POLINES/blob/main/Jobsheet02.ipynb\" target=\"_parent\"><img src=\"https://colab.research.google.com/assets/colab-badge.svg\" alt=\"Open In Colab\"/></a>"
      ]
    },
    {
      "cell_type": "markdown",
      "source": [
        "#Identitas Mahasiswa"
      ],
      "metadata": {
        "id": "z8pgo9nPC0Sw"
      }
    },
    {
      "cell_type": "code",
      "execution_count": null,
      "metadata": {
        "id": "siW2k2PjCGtN"
      },
      "outputs": [],
      "source": []
    },
    {
      "cell_type": "markdown",
      "source": [
        "#Operasi Aritmatika"
      ],
      "metadata": {
        "id": "aDg6SI_JDAq5"
      }
    },
    {
      "cell_type": "code",
      "source": [],
      "metadata": {
        "id": "CbMaJwaeDH83"
      },
      "execution_count": null,
      "outputs": []
    },
    {
      "cell_type": "markdown",
      "source": [
        "#Konversi Nilai"
      ],
      "metadata": {
        "id": "JTG8jGtmDIp4"
      }
    },
    {
      "cell_type": "code",
      "source": [],
      "metadata": {
        "id": "pc2vIC6_DNZy"
      },
      "execution_count": null,
      "outputs": []
    },
    {
      "cell_type": "markdown",
      "source": [
        "#Operasi Relasional"
      ],
      "metadata": {
        "id": "GSJs4eJ_DOBc"
      }
    },
    {
      "cell_type": "code",
      "source": [],
      "metadata": {
        "id": "l21KhxAyDUVc"
      },
      "execution_count": null,
      "outputs": []
    }
  ]
}