{
  "nbformat": 4,
  "nbformat_minor": 0,
  "metadata": {
    "colab": {
      "provenance": [],
      "authorship_tag": "ABX9TyPg3q7oxhx7b9F7tMiLkksi",
      "include_colab_link": true
    },
    "kernelspec": {
      "name": "python3",
      "display_name": "Python 3"
    },
    "language_info": {
      "name": "python"
    }
  },
  "cells": [
    {
      "cell_type": "markdown",
      "metadata": {
        "id": "view-in-github",
        "colab_type": "text"
      },
      "source": [
        "<a href=\"https://colab.research.google.com/github/FaqihRamadhan/AlgoritmaDanPemrograman_POLINES/blob/main/Jobsheet02.ipynb\" target=\"_parent\"><img src=\"https://colab.research.google.com/assets/colab-badge.svg\" alt=\"Open In Colab\"/></a>"
      ]
    },
    {
      "cell_type": "markdown",
      "source": [
        "#Praktikum 1"
      ],
      "metadata": {
        "id": "xPRaarqvxswG"
      }
    },
    {
      "cell_type": "code",
      "source": [
        "# Integer\n",
        "umur = 20\n",
        "\n",
        "print(\"Umur: \", umur, \"→\",type(umur))\n",
        "\n",
        "# Float\n",
        "Tinggi =170.5\n",
        "print(\"Tinggi:\", Tinggi, \"→\",type(Tinggi))\n",
        "\n",
        "# String\n",
        "nama = \"Faqih\"\n",
        "print(\"Nama ;\", nama, \"→\", type(nama))\n",
        "\n",
        "# Boolean\n",
        "mahasiswa = True\n",
        "print(\"Mahasiswa:\", mahasiswa, \"→\", type(mahasiswa))\n",
        "\n",
        "# List\n",
        "nilai = [80, 85, 90]\n",
        "print(\"Nilai:\", nilai, \"→\", type(nilai))\n",
        "\n",
        "# Tupple\n",
        "koordinat =(10, 20)\n",
        "print(\"Koordinat:\", koordinat, \"→\", type(koordinat))\n",
        "\n",
        "# Dictionary\n",
        "mahasiswa = {\"nama\": \"Faqih\", \"umur\": 20, \"prodi\": \"TRK\"}\n",
        "print(\"Data Mahasiswa:\", mahasiswa, \"→\", type(mahasiswa))\n",
        "\n",
        "# Set\n",
        "hobi = {\"Membaca\", \"Olaharaga\", \"musik\"}\n",
        "print(\"Hobi:\", hobi, \"→\", type(hobi))"
      ],
      "metadata": {
        "colab": {
          "base_uri": "https://localhost:8080/"
        },
        "id": "zSQEo8xMxweX",
        "outputId": "a9ab3dcb-de28-4b22-fa90-08ea4a750b53"
      },
      "execution_count": 2,
      "outputs": [
        {
          "output_type": "stream",
          "name": "stdout",
          "text": [
            "Umur:  20 → <class 'int'>\n",
            "Tinggi: 170.5 → <class 'float'>\n",
            "Nama ; Faqih → <class 'str'>\n",
            "Mahasiswa: True → <class 'bool'>\n",
            "Nilai: [80, 85, 90] → <class 'list'>\n",
            "Koordinat: (10, 20) → <class 'tuple'>\n",
            "Data Mahasiswa: {'nama': 'Faqih', 'umur': 20, 'prodi': 'TRK'} → <class 'dict'>\n",
            "Hobi: {'Olaharaga', 'musik', 'Membaca'} → <class 'set'>\n"
          ]
        }
      ]
    },
    {
      "cell_type": "markdown",
      "source": [
        "#Praktikum 2"
      ],
      "metadata": {
        "id": "-OzRxGeu1--a"
      }
    },
    {
      "cell_type": "code",
      "source": [
        " # Input string\n",
        "nama = input(\"Masukkan nama Anda: \")\n",
        "\n",
        " # Input integer\n",
        "umur = int(input(\"Masukkan umur Anda: \"))\n",
        "\n",
        "# Input float\n",
        "tinggi = float(input(\"Masukkan tinggi badan (cm): \"))\n",
        "\n",
        "# Output standar\n",
        "print(\"Halo,\", nama, \"umur Anda:\", umur, \"tahun, tinggi:\", tinggi, \"cm\")\n",
        "# Output dengan format()\n",
        "print(\"Halo {0}, umur Anda {1} tahun, tinggi {2} cm\".format(nama, umur, tinggi))\n",
        "# Output dengan f-string\n",
        "print(f\"Halo {nama}, umur Anda {umur} tahun, tinggi {tinggi} cm\")"
      ],
      "metadata": {
        "colab": {
          "base_uri": "https://localhost:8080/"
        },
        "id": "LTtIoGDb2COi",
        "outputId": "8d77551d-5fcd-4fab-f85f-aef4bee0bda8"
      },
      "execution_count": null,
      "outputs": [
        {
          "output_type": "stream",
          "name": "stdout",
          "text": [
            "Masukkan nama Anda: Faqih\n",
            "Masukkan umur Anda: 19\n",
            "Masukkan tinggi badan (cm): 165\n",
            "Halo, Faqih umur Anda: 19 tahun, tinggi: 165.0 cm\n",
            "Halo Faqih, umur Anda 19 tahun, tinggi 165.0 cm\n",
            "Halo Faqih, umur Anda 19 tahun, tinggi 165.0 cm\n"
          ]
        }
      ]
    },
    {
      "cell_type": "markdown",
      "source": [
        "#Praktikum 3"
      ],
      "metadata": {
        "id": "RNduXnuV_gT6"
      }
    },
    {
      "cell_type": "code",
      "source": [
        "a = 15\n",
        "b = 4\n",
        "\n",
        "print(\"a + b = \", a + b)\n",
        "print(\"a - b = \", a - b)\n",
        "print(\"a * b = \", a * b)\n",
        "print(\"a / b = \", a / b)\n",
        "print(\"a // b = \", a // b)\n",
        "print(\"a % b = \", a % b)\n",
        "print(\"a ** b = \", a ** b)"
      ],
      "metadata": {
        "colab": {
          "base_uri": "https://localhost:8080/"
        },
        "id": "V0ZWV4x5_jpR",
        "outputId": "730e2387-cf07-4d56-9194-4e55658301df"
      },
      "execution_count": null,
      "outputs": [
        {
          "output_type": "stream",
          "name": "stdout",
          "text": [
            "a + b =  19\n",
            "a - b =  11\n",
            "a * b =  60\n",
            "a / b =  3.75\n",
            "a // b =  3\n",
            "a % b =  3\n",
            "a ** b =  50625\n"
          ]
        }
      ]
    },
    {
      "cell_type": "markdown",
      "source": [
        "#Praktikum 4\n"
      ],
      "metadata": {
        "id": "qIHcDYSZ_r-K"
      }
    },
    {
      "cell_type": "code",
      "source": [
        "x = 10\n",
        "y = 20\n",
        "\n",
        "print(\"x == y:\", x == y)\n",
        "print(\"x != y:\", x != y)\n",
        "print(\"x < y:\", x < y)\n",
        "print(\"x > y:\", x > y)\n",
        "print(\"x >= y:\", x >= y)\n",
        "print(\"x <= y:\", x >= y)"
      ],
      "metadata": {
        "colab": {
          "base_uri": "https://localhost:8080/"
        },
        "id": "5PSYd5uV_vEm",
        "outputId": "6c617b48-819f-4e6a-bcdd-a4414d64154b"
      },
      "execution_count": null,
      "outputs": [
        {
          "output_type": "stream",
          "name": "stdout",
          "text": [
            "x == y: False\n",
            "x != y: True\n",
            "x < y: True\n",
            "x > y: False\n",
            "x >= y: False\n",
            "x <= y: False\n"
          ]
        }
      ]
    },
    {
      "cell_type": "markdown",
      "source": [
        "#Praktikum 5"
      ],
      "metadata": {
        "id": "SFQcN-ZxAS7k"
      }
    },
    {
      "cell_type": "code",
      "source": [
        "#Operator logika daar\n",
        "\n",
        "a = True\n",
        "b = False\n",
        "\n",
        "print(\"a and b =\", a and b)\n",
        "print(\"a or b =\", a or b)\n",
        "print(\"not a =\", not a)\n",
        "\n",
        "#Studi kasus nyata : kelulusan\n",
        "nilai = int(input(\"Masukkan nilai: \"))\n",
        "absen = int(input(\"Masukkan jumlah kehadiran: \"))\n",
        "\n",
        "lulus_nilai = nilai >= 60\n",
        "lulus_hadir = absen >= 12  # dari 16 Pertemuan\n",
        "\n",
        "if lulus_nilai and lulus_hadir:\n",
        "    print(\"Status: Lulus\")\n",
        "else:\n",
        "    print(\"Status: Tidak Lulus\")"
      ],
      "metadata": {
        "colab": {
          "base_uri": "https://localhost:8080/"
        },
        "id": "j_-WEGCHAWdL",
        "outputId": "c79e5fe1-6ca3-40b8-a388-d32fa86aab9b"
      },
      "execution_count": null,
      "outputs": [
        {
          "output_type": "stream",
          "name": "stdout",
          "text": [
            "a and b = False\n",
            "a or b = True\n",
            "not a = False\n",
            "Masukkan nilai: 75\n",
            "Masukkan jumlah kehadiran: 5\n",
            "Status: Tidak Lulus\n"
          ]
        }
      ]
    },
    {
      "cell_type": "markdown",
      "source": [
        "#Praktikum 6"
      ],
      "metadata": {
        "id": "mF8fHrE7Biyr"
      }
    },
    {
      "cell_type": "code",
      "source": [
        "barang = input (\"Masukkan nama barang:\")\n",
        "harga = float(input(\"Masukkan harga barang:\"))\n",
        "jumlah = int(input(\"Masukkan jumlah barang:\"))\n",
        "\n",
        "total = harga * jumlah\n",
        "\n",
        "#Aturan diskon\n",
        "if total >= 500000:\n",
        "  diskon = 0.2\n",
        "elif total >= 250000:\n",
        "  diskon = 0.1\n",
        "else:\n",
        "  diskon = 0\n",
        "\n",
        "potongan = total * diskon\n",
        "bayar = total - potongan\n",
        "\n",
        "print(\"\\n===== Struk Belanja =====\")\n",
        "print(f\"Barang:\", barang)\n",
        "print(f\"Harga:\", harga)\n",
        "print(f\"Jumlah:\", jumlah)\n",
        "print(f\"Total Harga:\", total)\n",
        "print(f\"Diskon:\", diskon * 100, \"%\")\n",
        "print(f\"bayar:, Rp{bayar}\")"
      ],
      "metadata": {
        "colab": {
          "base_uri": "https://localhost:8080/"
        },
        "id": "0EPdXbl2Bkp9",
        "outputId": "0d91c5c5-7d80-4a6b-8bb4-f6c978ebc62a"
      },
      "execution_count": null,
      "outputs": [
        {
          "output_type": "stream",
          "name": "stdout",
          "text": [
            "Masukkan nama barang:meja\n",
            "Masukkan harga barang:250000\n",
            "Masukkan jumlah barang:1\n",
            "\n",
            "===== Struk Belanja =====\n",
            "Barang: meja\n",
            "Harga: 250000.0\n",
            "Jumlah: 1\n",
            "Total Harga: 250000.0\n",
            "Diskon: 10.0 %\n",
            "bayar:, Rp225000.0\n"
          ]
        }
      ]
    },
    {
      "cell_type": "markdown",
      "source": [
        "#Identitas Mahasiswa"
      ],
      "metadata": {
        "id": "z8pgo9nPC0Sw"
      }
    },
    {
      "cell_type": "code",
      "execution_count": 4,
      "metadata": {
        "id": "siW2k2PjCGtN",
        "colab": {
          "base_uri": "https://localhost:8080/"
        },
        "outputId": "276bf2b2-729d-41da-e923-434b2111bd99"
      },
      "outputs": [
        {
          "output_type": "stream",
          "name": "stdout",
          "text": [
            "=== Identitas Mahasiswa ===\n",
            "Nama          : Muhammad Faqih\n",
            "Umur          : 20 tahun\n",
            "Tinggi Badan  : 165.5 cm\n",
            "Status Aktif  : True\n"
          ]
        }
      ],
      "source": [
        "# Program 3: Identitas Mahasiswa\n",
        "\n",
        "# Menyimpan data ke dalam variabel\n",
        "nama = \"Muhammad Faqih\"\n",
        "umur = 20\n",
        "tinggi = 165.5\n",
        "status_aktif = True\n",
        "\n",
        "# Menampilkan hasil dengan format rapi menggunakan f-string\n",
        "print(\"=== Identitas Mahasiswa ===\")\n",
        "print(f\"Nama          : {nama}\")\n",
        "print(f\"Umur          : {umur} tahun\")\n",
        "print(f\"Tinggi Badan  : {tinggi} cm\")\n",
        "print(f\"Status Aktif  : {status_aktif}\")\n"
      ]
    },
    {
      "cell_type": "markdown",
      "source": [
        "#Operasi Aritmatika"
      ],
      "metadata": {
        "id": "aDg6SI_JDAq5"
      }
    },
    {
      "cell_type": "code",
      "source": [
        "# Program 4: Operasi Aritmatika\n",
        "\n",
        "# Input dua bilangan bulat\n",
        "a = int(input(\"Masukkan bilangan pertama: \"))\n",
        "b = int(input(\"Masukkan bilangan kedua: \"))\n",
        "\n",
        "# Operasi aritmatika\n",
        "print(\"\\n=== Hasil Operasi Aritmatika ===\")\n",
        "print(f\"Penjumlahan       : {a} + {b} = {a + b}\")\n",
        "print(f\"Pengurangan       : {a} - {b} = {a - b}\")\n",
        "print(f\"Perkalian         : {a} * {b} = {a * b}\")\n",
        "print(f\"Pembagian         : {a} / {b} = {a / b}\")\n",
        "print(f\"Sisa Bagi         : {a} % {b} = {a % b}\")\n",
        "print(f\"Perpangkatan      : {a} ** {b} = {a ** b}\")\n"
      ],
      "metadata": {
        "id": "CbMaJwaeDH83",
        "colab": {
          "base_uri": "https://localhost:8080/"
        },
        "outputId": "e1250f11-16a6-4518-91d8-88c83cec8011"
      },
      "execution_count": 13,
      "outputs": [
        {
          "output_type": "stream",
          "name": "stdout",
          "text": [
            "Masukkan bilangan pertama: 30\n",
            "Masukkan bilangan kedua: 20\n",
            "\n",
            "=== Hasil Operasi Aritmatika ===\n",
            "Penjumlahan       : 30 + 20 = 50\n",
            "Pengurangan       : 30 - 20 = 10\n",
            "Perkalian         : 30 * 20 = 600\n",
            "Pembagian         : 30 / 20 = 1.5\n",
            "Sisa Bagi         : 30 % 20 = 10\n",
            "Perpangkatan      : 30 ** 20 = 348678440100000000000000000000\n"
          ]
        }
      ]
    },
    {
      "cell_type": "markdown",
      "source": [
        "#Konversi Nilai"
      ],
      "metadata": {
        "id": "JTG8jGtmDIp4"
      }
    },
    {
      "cell_type": "code",
      "source": [
        "# Program 5: Konversi Nilai\n",
        "\n",
        "# Input bilangan desimal\n",
        "nilai = float(input(\"Masukkan nilai desimal: \"))\n",
        "\n",
        "# Menampilkan berbagai konversi\n",
        "print(f\"Bentuk integer dari {nilai} adalah {int(nilai)}\")\n",
        "print(f\"Bentuk string dari {nilai} adalah '{str(nilai)}'\")\n",
        "print(f\"Bentuk pembulatan dua digit di belakang koma dari {nilai} adalah {round(nilai, 2)}\")\n"
      ],
      "metadata": {
        "id": "pc2vIC6_DNZy",
        "colab": {
          "base_uri": "https://localhost:8080/"
        },
        "outputId": "b2150145-fd10-4978-f468-c6633d18770a"
      },
      "execution_count": 11,
      "outputs": [
        {
          "output_type": "stream",
          "name": "stdout",
          "text": [
            "Masukkan nilai desimal: 1.1234\n",
            "Bentuk integer dari 1.1234 adalah 1\n",
            "Bentuk string dari 1.1234 adalah '1.1234'\n",
            "Bentuk pembulatan dua digit di belakang koma dari 1.1234 adalah 1.12\n"
          ]
        }
      ]
    },
    {
      "cell_type": "markdown",
      "source": [
        "#Operasi Relasional"
      ],
      "metadata": {
        "id": "GSJs4eJ_DOBc"
      }
    },
    {
      "cell_type": "code",
      "source": [
        "a = int(input(\"Masukkan Bilangan Pertama = \"))\n",
        "b = int(input(\"Masukkan Bilangan Kedua = \"))\n",
        "print()\n",
        "\n",
        "print(f\"{a} == {b} = {a == b}\")\n",
        "print(f\"{a} != {b} = {a != b}\")\n",
        "print(f\"{a} > {b} = {a > b}\")\n",
        "print(f\"{a} < {b} = {a < b}\")\n",
        "print(f\"{a} <= {b} = {a <= b}\")\n",
        "print(f\"{a} >= {b} = {a >= b}\")"
      ],
      "metadata": {
        "id": "l21KhxAyDUVc",
        "colab": {
          "base_uri": "https://localhost:8080/"
        },
        "outputId": "24d32829-15d2-4bc9-87a6-bb9ab7289380"
      },
      "execution_count": 8,
      "outputs": [
        {
          "output_type": "stream",
          "name": "stdout",
          "text": [
            "Masukkan Bilangan Pertama = 20\n",
            "Masukkan Bilangan Kedua = 10\n",
            "\n",
            "20 == 10 = False\n",
            "20 != 10 = True\n",
            "20 > 10 = True\n",
            "20 < 10 = False\n",
            "20 <= 10 = False\n",
            "20 >= 10 = True\n"
          ]
        }
      ]
    }
  ]
}